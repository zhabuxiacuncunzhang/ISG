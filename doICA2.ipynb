{
 "cells": [
  {
   "cell_type": "code",
   "execution_count": 1,
   "id": "f4b47c08",
   "metadata": {},
   "outputs": [],
   "source": [
    "import os\n",
    "import handlePhs as hp\n",
    "import numpy as np\n",
    "import plotSig as ps\n",
    "from sklearn.decomposition import PCA\n",
    "from sklearn.decomposition import FastICA\n",
    "from skimage.feature import graycomatrix, graycoprops\n",
    "from rich.progress import track"
   ]
  },
  {
   "cell_type": "code",
   "execution_count": 2,
   "id": "8f669a92",
   "metadata": {},
   "outputs": [],
   "source": [
    "def to255(array,length,width):\n",
    "\n",
    "    ymax = 255\n",
    "    ymin = 0\n",
    "    xmax = max(map(max,array))\n",
    "    xmin = min(map(min,array))\n",
    "    \n",
    "    for i in range(length):\n",
    "        for j in range(width):\n",
    "            array[i][j] = round(((ymax-ymin)*(array[i][j]-xmin)/(xmax-xmin))+ymin)\n",
    "    \n",
    "    return array"
   ]
  },
  {
   "cell_type": "code",
   "execution_count": 3,
   "id": "0b85870f",
   "metadata": {},
   "outputs": [],
   "source": [
    "fileList='./filelist'\n",
    "# headerFile='./data1/20180102-20180108.phs.ovr.rsc'\n",
    "headerFile='./header'\n",
    "result='./result_09'\n",
    "if not os.path.exists(result):\n",
    "    os.makedirs(result)\n",
    "sumOfRatio=0.9"
   ]
  },
  {
   "cell_type": "code",
   "execution_count": 4,
   "id": "b13bd21e",
   "metadata": {},
   "outputs": [
    {
     "name": "stdout",
     "output_type": "stream",
     "text": [
      "read file list: ./filelist\n",
      "read header file: ./header\n",
      "with: 4865  length: 3241\n"
     ]
    },
    {
     "data": {
      "application/vnd.jupyter.widget-view+json": {
       "model_id": "37c8ff32ad7a4caeaef10f05a0a7a386",
       "version_major": 2,
       "version_minor": 0
      },
      "text/plain": [
       "Output()"
      ]
     },
     "metadata": {},
     "output_type": "display_data"
    },
    {
     "data": {
      "text/html": [
       "<pre style=\"white-space:pre;overflow-x:auto;line-height:normal;font-family:Menlo,'DejaVu Sans Mono',consolas,'Courier New',monospace\"></pre>\n"
      ],
      "text/plain": []
     },
     "metadata": {},
     "output_type": "display_data"
    },
    {
     "data": {
      "text/html": [
       "<pre style=\"white-space:pre;overflow-x:auto;line-height:normal;font-family:Menlo,'DejaVu Sans Mono',consolas,'Courier New',monospace\">\n",
       "</pre>\n"
      ],
      "text/plain": [
       "\n"
      ]
     },
     "metadata": {},
     "output_type": "display_data"
    }
   ],
   "source": [
    "header, phsStack, fileNum=hp.readFile(fileList,headerFile)"
   ]
  },
  {
   "cell_type": "code",
   "execution_count": 5,
   "id": "8f14c0d7",
   "metadata": {},
   "outputs": [],
   "source": [
    "pca = PCA()\n",
    "pca.fit(phsStack)\n",
    "ratio=pca.explained_variance_ratio_"
   ]
  },
  {
   "cell_type": "code",
   "execution_count": 6,
   "id": "758ab13a",
   "metadata": {},
   "outputs": [
    {
     "name": "stdout",
     "output_type": "stream",
     "text": [
      "[5.31887107e-01 1.25983583e-01 5.65184616e-02 4.33150790e-02\n",
      " 3.55924144e-02 2.71235114e-02 2.05864058e-02 1.69017984e-02\n",
      " 1.48407447e-02 1.26312448e-02 1.01180973e-02 9.30762400e-03\n",
      " 8.02959445e-03 7.70176450e-03 6.79019220e-03 5.89675305e-03\n",
      " 4.84367170e-03 4.75002395e-03 4.23426039e-03 4.01267657e-03\n",
      " 3.80456442e-03 3.60348708e-03 3.33161525e-03 3.18674784e-03\n",
      " 2.99012673e-03 2.69146668e-03 2.59268810e-03 2.48618782e-03\n",
      " 2.33499661e-03 2.20493521e-03 2.04253604e-03 1.75983423e-03\n",
      " 1.67219332e-03 1.55163211e-03 1.46994339e-03 1.36057845e-03\n",
      " 1.27781399e-03 1.25327609e-03 1.13704937e-03 1.07446163e-03\n",
      " 9.86621335e-04 8.76995917e-04 8.39475967e-04 7.54407794e-04\n",
      " 6.53128146e-04 5.77371716e-04 4.20856486e-04]\n"
     ]
    }
   ],
   "source": [
    "print(ratio)"
   ]
  },
  {
   "cell_type": "code",
   "execution_count": 7,
   "id": "a26d97e2",
   "metadata": {},
   "outputs": [
    {
     "name": "stdout",
     "output_type": "stream",
     "text": [
      "11\n",
      "0.9048060714849041\n"
     ]
    }
   ],
   "source": [
    "sum=0\n",
    "for i in range(len(ratio)):\n",
    "    sum+=ratio[i]\n",
    "    if(sum>sumOfRatio):\n",
    "        print(i)\n",
    "        print(sum)\n",
    "        break\n"
   ]
  },
  {
   "cell_type": "code",
   "execution_count": 8,
   "id": "cd1707da",
   "metadata": {},
   "outputs": [],
   "source": [
    "numOfPCA=i"
   ]
  },
  {
   "cell_type": "code",
   "execution_count": 9,
   "id": "d8e1496c",
   "metadata": {},
   "outputs": [],
   "source": [
    "phsMean=phsStack.mean(axis=0)\n",
    "phsSubMeanStack=phsStack-phsMean"
   ]
  },
  {
   "cell_type": "code",
   "execution_count": 10,
   "id": "27593f5f",
   "metadata": {},
   "outputs": [],
   "source": [
    "ica = FastICA(whiten='unit-variance')\n",
    "S_ = ica.fit_transform(phsSubMeanStack)  # Reconstruct signals\n",
    "A_ = ica.mixing_  # Get estimated mixing matrix\n",
    "S_ = S_.astype('float32')\n",
    "A_ = A_.astype('float32')"
   ]
  },
  {
   "cell_type": "code",
   "execution_count": 11,
   "id": "20761d1e",
   "metadata": {},
   "outputs": [
    {
     "name": "stdout",
     "output_type": "stream",
     "text": [
      "(15767465, 47)\n",
      "(47, 47)\n"
     ]
    }
   ],
   "source": [
    "print(S_.shape)\n",
    "print(A_.shape)"
   ]
  },
  {
   "cell_type": "code",
   "execution_count": 12,
   "id": "0f680574",
   "metadata": {},
   "outputs": [],
   "source": [
    "numOfS=S_.shape[1]"
   ]
  },
  {
   "cell_type": "code",
   "execution_count": 13,
   "id": "23dc57a5",
   "metadata": {},
   "outputs": [],
   "source": [
    "contrast=np.empty(numOfS)\n",
    "dissimilarity=np.empty(numOfS)\n",
    "energy=np.empty(numOfS)\n",
    "correlation=np.empty(numOfS)\n",
    "homogeneity=np.empty(numOfS)"
   ]
  },
  {
   "cell_type": "code",
   "execution_count": 14,
   "id": "983877e3",
   "metadata": {},
   "outputs": [
    {
     "name": "stdout",
     "output_type": "stream",
     "text": [
      "0\n",
      "Contrast: 42.92885098400763\n",
      "Dissimilarity: 2.0658394861548084\n",
      "Energy: 0.7431566375162898\n",
      "Correlation: 0.852780483244765\n",
      "Homogeneity: 0.8657314225928442\n",
      "1\n",
      "Contrast: 53.2760050926594\n",
      "Dissimilarity: 2.521628738043738\n",
      "Energy: 0.7312924682391995\n",
      "Correlation: 0.8827723111918212\n",
      "Homogeneity: 0.8606780908787259\n",
      "2\n",
      "Contrast: 55.940347705524886\n",
      "Dissimilarity: 2.748333385504882\n",
      "Energy: 0.6959725650287543\n",
      "Correlation: 0.7161541697964714\n",
      "Homogeneity: 0.8194476576765075\n",
      "3\n",
      "Contrast: 58.17494341893957\n",
      "Dissimilarity: 2.755184437500626\n",
      "Energy: 0.7022352102341544\n",
      "Correlation: 0.7269383545824409\n",
      "Homogeneity: 0.8235969535932186\n",
      "4\n",
      "Contrast: 62.719098163236865\n",
      "Dissimilarity: 2.9106510246267554\n",
      "Energy: 0.7016876060004094\n",
      "Correlation: 0.6616467805789773\n",
      "Homogeneity: 0.8149799017923423\n",
      "5\n",
      "Contrast: 54.27569230884516\n",
      "Dissimilarity: 2.5931764717093437\n",
      "Energy: 0.7360900712863343\n",
      "Correlation: 0.8350955246775171\n",
      "Homogeneity: 0.846392467680634\n",
      "6\n",
      "Contrast: 39.602025823864295\n",
      "Dissimilarity: 2.205097090078152\n",
      "Energy: 0.7148346045032552\n",
      "Correlation: 0.8525179927553863\n",
      "Homogeneity: 0.8507909607720117\n",
      "7\n",
      "Contrast: 98.96278818630765\n",
      "Dissimilarity: 3.721456143835136\n",
      "Energy: 0.6959162225866493\n",
      "Correlation: 0.6787957806136936\n",
      "Homogeneity: 0.8135670999868855\n",
      "8\n",
      "Contrast: 39.91623307251814\n",
      "Dissimilarity: 2.0280898519732418\n",
      "Energy: 0.7416951036919899\n",
      "Correlation: 0.7604770799635365\n",
      "Homogeneity: 0.8457538114945881\n",
      "9\n",
      "Contrast: 48.82042449064387\n",
      "Dissimilarity: 2.3791819408940937\n",
      "Energy: 0.7319661380523402\n",
      "Correlation: 0.8926294117738476\n",
      "Homogeneity: 0.8666869174252747\n",
      "10\n",
      "Contrast: 58.911220188190036\n",
      "Dissimilarity: 2.730911673572841\n",
      "Energy: 0.7142361096476718\n",
      "Correlation: 0.8575393072726545\n",
      "Homogeneity: 0.8490728552294672\n",
      "11\n",
      "Contrast: 55.61677775505575\n",
      "Dissimilarity: 2.742034969230484\n",
      "Energy: 0.6988833357453096\n",
      "Correlation: 0.7415767791264682\n",
      "Homogeneity: 0.8227761266657487\n",
      "12\n",
      "Contrast: 50.44377942505838\n",
      "Dissimilarity: 2.5011553102037487\n",
      "Energy: 0.7281389767206325\n",
      "Correlation: 0.8615488181420895\n",
      "Homogeneity: 0.8522648822183498\n",
      "13\n",
      "Contrast: 65.68454505399723\n",
      "Dissimilarity: 2.9348110314926097\n",
      "Energy: 0.7153618749257167\n",
      "Correlation: 0.5864406250465046\n",
      "Homogeneity: 0.8146957050503563\n",
      "14\n",
      "Contrast: 54.44476724592043\n",
      "Dissimilarity: 2.6909294107869655\n",
      "Energy: 0.7238389332666663\n",
      "Correlation: 0.5313736640066937\n",
      "Homogeneity: 0.810702143176655\n",
      "15\n",
      "Contrast: 43.71235052456773\n",
      "Dissimilarity: 2.411204501837669\n",
      "Energy: 0.7118639127626174\n",
      "Correlation: 0.688742176462845\n",
      "Homogeneity: 0.8187695238055844\n",
      "16\n",
      "Contrast: 62.89716912683818\n",
      "Dissimilarity: 2.9118941691763243\n",
      "Energy: 0.6956917220506784\n",
      "Correlation: 0.7482003724791257\n",
      "Homogeneity: 0.8219871041130182\n",
      "17\n",
      "Contrast: 56.58391568728657\n",
      "Dissimilarity: 2.684988157446652\n",
      "Energy: 0.7210095978680816\n",
      "Correlation: 0.8624055038735597\n",
      "Homogeneity: 0.8480062906838078\n",
      "18\n",
      "Contrast: 67.04814509448128\n",
      "Dissimilarity: 2.9869428901428465\n",
      "Energy: 0.7030339165281702\n",
      "Correlation: 0.7780779076172035\n",
      "Homogeneity: 0.8290207822573704\n",
      "19\n",
      "Contrast: 8.27486791133544\n",
      "Dissimilarity: 0.8012908285260025\n",
      "Energy: 0.8485798799036397\n",
      "Correlation: 0.9536426958026618\n",
      "Homogeneity: 0.9200786879144984\n",
      "20\n",
      "Contrast: 85.60114643173219\n",
      "Dissimilarity: 3.4131735395762224\n",
      "Energy: 0.6997482011786446\n",
      "Correlation: 0.7435926319877756\n",
      "Homogeneity: 0.8211014663264417\n",
      "21\n",
      "Contrast: 57.62153504573381\n",
      "Dissimilarity: 2.7913464035889204\n",
      "Energy: 0.6930425365212266\n",
      "Correlation: 0.7702326932653345\n",
      "Homogeneity: 0.8251416686312179\n",
      "22\n",
      "Contrast: 58.44574979871479\n",
      "Dissimilarity: 2.307383481763373\n",
      "Energy: 0.7716860181603017\n",
      "Correlation: 0.8394822564256829\n",
      "Homogeneity: 0.8674546480534311\n",
      "23\n",
      "Contrast: 43.363865136687394\n",
      "Dissimilarity: 2.2805449770352744\n",
      "Energy: 0.7116087158751783\n",
      "Correlation: 0.8546521375522182\n",
      "Homogeneity: 0.8523615699843153\n",
      "24\n",
      "Contrast: 73.53868099866041\n",
      "Dissimilarity: 3.0112813675066117\n",
      "Energy: 0.7097667441278381\n",
      "Correlation: 0.7305713314940627\n",
      "Homogeneity: 0.828641413984361\n",
      "25\n",
      "Contrast: 31.95273017486517\n",
      "Dissimilarity: 2.075528419000046\n",
      "Energy: 0.7087178613739964\n",
      "Correlation: 0.6533234548928604\n",
      "Homogeneity: 0.8171325876685079\n",
      "26\n",
      "Contrast: 17.996967457681954\n",
      "Dissimilarity: 1.097647013301269\n",
      "Energy: 0.8583662701354206\n",
      "Correlation: 0.9492026089988369\n",
      "Homogeneity: 0.9238923494918986\n",
      "27\n",
      "Contrast: 24.30518512782714\n",
      "Dissimilarity: 1.5737326547481045\n",
      "Energy: 0.7391755594653695\n",
      "Correlation: 0.8230900466816973\n",
      "Homogeneity: 0.8548660144001226\n",
      "28\n",
      "Contrast: 60.40979283820048\n",
      "Dissimilarity: 2.7904661499335948\n",
      "Energy: 0.7056059367539325\n",
      "Correlation: 0.7363924053416508\n",
      "Homogeneity: 0.8262350113313879\n",
      "29\n",
      "Contrast: 35.980371151620396\n",
      "Dissimilarity: 2.1680324369373207\n",
      "Energy: 0.7201616653662424\n",
      "Correlation: 0.743926563872625\n",
      "Homogeneity: 0.8296854096352964\n",
      "30\n",
      "Contrast: 41.74236477196039\n",
      "Dissimilarity: 2.1852746902269495\n",
      "Energy: 0.726295333030521\n",
      "Correlation: 0.886670798123953\n",
      "Homogeneity: 0.8646124168738327\n",
      "31\n",
      "Contrast: 69.83232485812842\n",
      "Dissimilarity: 3.0842608032004897\n",
      "Energy: 0.6932675120465314\n",
      "Correlation: 0.6735407101226296\n",
      "Homogeneity: 0.8123051087772765\n",
      "32\n",
      "Contrast: 39.77934125867344\n",
      "Dissimilarity: 2.0762716115338185\n",
      "Energy: 0.7376821572924013\n",
      "Correlation: 0.7447605655914237\n",
      "Homogeneity: 0.8425431461961476\n",
      "33\n",
      "Contrast: 45.56861536073813\n",
      "Dissimilarity: 2.386010350404974\n",
      "Energy: 0.7139105645118589\n",
      "Correlation: 0.8330957640297291\n",
      "Homogeneity: 0.845042918803744\n",
      "34\n",
      "Contrast: 62.352419209508824\n",
      "Dissimilarity: 2.8776468753458753\n",
      "Energy: 0.6959008892762812\n",
      "Correlation: 0.7079267753626455\n",
      "Homogeneity: 0.8198893168700646\n",
      "35\n",
      "Contrast: 48.247613706494306\n",
      "Dissimilarity: 2.502817749848366\n",
      "Energy: 0.7030797571184926\n",
      "Correlation: 0.7398709375721422\n",
      "Homogeneity: 0.8248688985683809\n",
      "36\n",
      "Contrast: 43.51313941631229\n",
      "Dissimilarity: 2.191518688145852\n",
      "Energy: 0.7384017738464695\n",
      "Correlation: 0.854877163982263\n",
      "Homogeneity: 0.8582782293130429\n",
      "37\n",
      "Contrast: 52.39246380566901\n",
      "Dissimilarity: 2.618833080921842\n",
      "Energy: 0.7191058760809966\n",
      "Correlation: 0.4741001419211114\n",
      "Homogeneity: 0.8080993873982658\n",
      "38\n",
      "Contrast: 40.81830900235268\n",
      "Dissimilarity: 2.2489082711192268\n",
      "Energy: 0.7175391604783911\n",
      "Correlation: 0.7270291306364127\n",
      "Homogeneity: 0.8313086722328484\n",
      "39\n",
      "Contrast: 66.84974784833432\n",
      "Dissimilarity: 3.0484585725545377\n",
      "Energy: 0.698396197823057\n",
      "Correlation: 0.6607928150373785\n",
      "Homogeneity: 0.810784346732922\n",
      "40\n",
      "Contrast: 60.494859070724644\n",
      "Dissimilarity: 2.6293446667917433\n",
      "Energy: 0.7284593091192346\n",
      "Correlation: 0.8793539204772718\n",
      "Homogeneity: 0.8634094988121741\n",
      "41\n",
      "Contrast: 61.17994607193971\n",
      "Dissimilarity: 2.6314541923442887\n",
      "Energy: 0.7387005487473983\n",
      "Correlation: 0.892982496560492\n",
      "Homogeneity: 0.8692885970363841\n",
      "42\n",
      "Contrast: 14.757211573011753\n",
      "Dissimilarity: 1.3889214136236592\n",
      "Energy: 0.7094182183177073\n",
      "Correlation: 0.7408199408468538\n",
      "Homogeneity: 0.8298247252926401\n",
      "43\n",
      "Contrast: 74.46524535419323\n",
      "Dissimilarity: 3.1378625445067425\n",
      "Energy: 0.7065353220190334\n",
      "Correlation: 0.8199028034425241\n",
      "Homogeneity: 0.837833141296273\n",
      "44\n",
      "Contrast: 58.84364631142907\n",
      "Dissimilarity: 2.757020050595364\n",
      "Energy: 0.7063889362897933\n",
      "Correlation: 0.7447555614756128\n",
      "Homogeneity: 0.8265764417163927\n",
      "45\n",
      "Contrast: 58.948536073799694\n",
      "Dissimilarity: 2.590277639666015\n",
      "Energy: 0.7311023204620969\n",
      "Correlation: 0.8359604417834144\n",
      "Homogeneity: 0.8535254919566706\n",
      "46\n",
      "Contrast: 65.60524642560807\n",
      "Dissimilarity: 2.7788150254430377\n",
      "Energy: 0.726877826515836\n",
      "Correlation: 0.7807422054420613\n",
      "Homogeneity: 0.8392286847673235\n"
     ]
    }
   ],
   "source": [
    "for i in range(S_.shape[1]):\n",
    "    SImageLine=S_[:,i]\n",
    "    SImage=np.round(SImageLine.reshape([header.length,header.width])).astype('int64')\n",
    "    gray_image=to255(SImage,header.length,header.width)\n",
    "\n",
    "    d = [5]  # 距离\n",
    "    angles = [0, np.pi/4, np.pi/2, 3*np.pi/4]  # 角度\n",
    "\n",
    "    # 计算GLCM\n",
    "    glcm = graycomatrix(gray_image, distances=d, angles=angles, levels=256, symmetric=True, normed=True)\n",
    "\n",
    "    # 计算GLCM特征\n",
    "    contrast[i] = np.mean(graycoprops(glcm, 'contrast'))\n",
    "    dissimilarity[i] = np.mean(graycoprops(glcm, 'dissimilarity'))\n",
    "    energy[i] = np.mean(graycoprops(glcm, 'energy'))\n",
    "    correlation[i] = np.mean(graycoprops(glcm, 'correlation'))\n",
    "    homogeneity[i] = np.mean(graycoprops(glcm, 'homogeneity'))\n",
    "\n",
    "    print(i)\n",
    "    # 输出特征值\n",
    "    print(\"Contrast:\", contrast[i])\n",
    "    print(\"Dissimilarity:\", dissimilarity[i])\n",
    "    print(\"Energy:\", energy[i])\n",
    "    print(\"Correlation:\", correlation[i])\n",
    "    print(\"Homogeneity:\", homogeneity[i])"
   ]
  },
  {
   "cell_type": "code",
   "execution_count": 15,
   "id": "76b9832b",
   "metadata": {},
   "outputs": [],
   "source": [
    "def normalize_array(arr, epsilon=1e-10):\n",
    "    \"\"\"\n",
    "    Normalize the input array to the range [0, 1].\n",
    "    \n",
    "    Parameters:\n",
    "        arr (array-like): Input array.\n",
    "    \n",
    "    Returns:\n",
    "        array: Normalized array.\n",
    "    \"\"\"\n",
    "    arr = np.array(arr)\n",
    "    min_val = np.min(arr)\n",
    "    max_val = np.max(arr)\n",
    "    if min_val == max_val:\n",
    "        return np.full_like(arr, epsilon)\n",
    "    else:\n",
    "        return (arr - min_val) / (max_val - min_val) * (1 - 2 * epsilon) + epsilon"
   ]
  },
  {
   "cell_type": "code",
   "execution_count": 16,
   "id": "843dd8a6",
   "metadata": {},
   "outputs": [],
   "source": [
    "contrastNor=normalize_array(contrast)\n",
    "dissimilarityNor=normalize_array(dissimilarity)\n",
    "# energyNor=normalize_array(energy)\n",
    "# correlationNor=normalize_array(correlation)\n",
    "one_contrastNor=1-contrastNor\n",
    "one_dissimilarityNor=1-dissimilarityNor"
   ]
  },
  {
   "cell_type": "code",
   "execution_count": 17,
   "id": "a2a15433",
   "metadata": {},
   "outputs": [
    {
     "name": "stdout",
     "output_type": "stream",
     "text": [
      "[6.17876527e-01 5.03780249e-01 4.74401005e-01 4.49760504e-01\n",
      " 3.99652897e-01 4.92756872e-01 6.54560852e-01 1.00000008e-10\n",
      " 6.51096143e-01 5.52911165e-01 4.41641708e-01 4.77968954e-01\n",
      " 5.35010712e-01 3.66953427e-01 4.90892511e-01 6.09237013e-01\n",
      " 3.97689339e-01 4.67304492e-01 3.51917245e-01 1.00000000e+00\n",
      " 1.47336511e-01 4.55862843e-01 4.46774369e-01 6.13079701e-01\n",
      " 2.80347229e-01 7.38908311e-01 8.92796091e-01 8.23236467e-01\n",
      " 4.25117207e-01 6.94496211e-01 6.30959705e-01 3.21216577e-01\n",
      " 6.52605625e-01 5.88768302e-01 4.03696202e-01 5.59227451e-01\n",
      " 6.11433679e-01 5.13522906e-01 6.41149108e-01 3.54104937e-01\n",
      " 4.24179196e-01 4.16624860e-01 9.28520318e-01 2.70130165e-01\n",
      " 4.42386833e-01 4.41230232e-01 3.67827839e-01]\n",
      "[5.66959908e-01 4.10876535e-01 3.33242352e-01 3.30896234e-01\n",
      " 2.77657267e-01 3.86375273e-01 5.19271647e-01 1.00000008e-10\n",
      " 5.79887133e-01 4.59656923e-01 3.39208354e-01 3.35399222e-01\n",
      " 4.17887586e-01 2.69383760e-01 3.52900135e-01 4.48690913e-01\n",
      " 2.77231556e-01 3.54934695e-01 2.51531394e-01 1.00000000e+00\n",
      " 1.05570258e-01 3.18512700e-01 4.84244044e-01 4.93434793e-01\n",
      " 2.43196771e-01 5.63641968e-01 8.98513901e-01 7.35480104e-01\n",
      " 3.18814140e-01 5.31964303e-01 5.26059756e-01 2.18205229e-01\n",
      " 5.63387464e-01 4.57318559e-01 2.88959418e-01 4.17318289e-01\n",
      " 5.23921522e-01 3.77589261e-01 5.04268668e-01 2.30465573e-01\n",
      " 3.73989606e-01 3.73267207e-01 7.98768042e-01 1.99849507e-01\n",
      " 3.30267635e-01 3.87367968e-01 3.22804025e-01]\n"
     ]
    }
   ],
   "source": [
    "print(one_contrastNor)\n",
    "print(one_dissimilarityNor)"
   ]
  },
  {
   "cell_type": "code",
   "execution_count": 18,
   "id": "e76aa788",
   "metadata": {},
   "outputs": [],
   "source": [
    "GLCM=one_contrastNor*one_dissimilarityNor*energy*correlation"
   ]
  },
  {
   "cell_type": "code",
   "execution_count": 19,
   "id": "abb80a02",
   "metadata": {},
   "outputs": [
    {
     "name": "stdout",
     "output_type": "stream",
     "text": [
      "47\n"
     ]
    }
   ],
   "source": [
    "print(np.size(GLCM))"
   ]
  },
  {
   "cell_type": "code",
   "execution_count": 20,
   "id": "f37b9795",
   "metadata": {},
   "outputs": [],
   "source": [
    "def top_n_indices(arr, n):\n",
    "    \"\"\"\n",
    "    Find the indices of the top n elements in the array (sorted in descending order).\n",
    "    \n",
    "    Parameters:\n",
    "        arr (array-like): Input array.\n",
    "        n (int): Number of top indices to return.\n",
    "    \n",
    "    Returns:\n",
    "        array: Array containing the indices of the top n elements.\n",
    "    \"\"\"\n",
    "    arr = np.array(arr)\n",
    "    indices = np.argsort(arr)[::-1][:n]\n",
    "    return indices"
   ]
  },
  {
   "cell_type": "code",
   "execution_count": 21,
   "id": "96dd6ba6",
   "metadata": {},
   "outputs": [],
   "source": [
    "topGLCMIndex=top_n_indices(GLCM, numOfPCA)"
   ]
  },
  {
   "cell_type": "code",
   "execution_count": 22,
   "id": "518a14d8",
   "metadata": {},
   "outputs": [
    {
     "name": "stdout",
     "output_type": "stream",
     "text": [
      "[19 26 42 27  0 30  8  6 36 32 29]\n"
     ]
    }
   ],
   "source": [
    "print(topGLCMIndex)"
   ]
  },
  {
   "cell_type": "code",
   "execution_count": 23,
   "id": "ec431cb1",
   "metadata": {},
   "outputs": [
    {
     "name": "stdout",
     "output_type": "stream",
     "text": [
      "(15767465, 11)\n",
      "(47, 11)\n"
     ]
    }
   ],
   "source": [
    "# newS = np.delete(S_,obj=topGLCMIndex,axis=1)\n",
    "# newA = np.delete(A_,obj=topGLCMIndex,axis=1)\n",
    "newS = S_[:,topGLCMIndex]\n",
    "newA = A_[:,topGLCMIndex]\n",
    "print(newS.shape)\n",
    "print(newA.shape)"
   ]
  },
  {
   "cell_type": "code",
   "execution_count": 24,
   "id": "4a1091f3",
   "metadata": {},
   "outputs": [],
   "source": [
    "newPhsStackMean = np.dot(newS, newA.T)\n",
    "newPhsStack = newPhsStackMean + ica.mean_.astype('float32')"
   ]
  },
  {
   "cell_type": "code",
   "execution_count": 25,
   "id": "2e384175",
   "metadata": {},
   "outputs": [
    {
     "name": "stdout",
     "output_type": "stream",
     "text": [
      "(15767465, 47)\n"
     ]
    }
   ],
   "source": [
    "print(newPhsStack.shape)"
   ]
  },
  {
   "cell_type": "code",
   "execution_count": 26,
   "id": "43b8c50c",
   "metadata": {},
   "outputs": [
    {
     "data": {
      "application/vnd.jupyter.widget-view+json": {
       "model_id": "7d616a7c1193495388394b744268aa4b",
       "version_major": 2,
       "version_minor": 0
      },
      "text/plain": [
       "Output()"
      ]
     },
     "metadata": {},
     "output_type": "display_data"
    },
    {
     "data": {
      "text/html": [
       "<pre style=\"white-space:pre;overflow-x:auto;line-height:normal;font-family:Menlo,'DejaVu Sans Mono',consolas,'Courier New',monospace\"></pre>\n"
      ],
      "text/plain": []
     },
     "metadata": {},
     "output_type": "display_data"
    },
    {
     "data": {
      "text/html": [
       "<pre style=\"white-space:pre;overflow-x:auto;line-height:normal;font-family:Menlo,'DejaVu Sans Mono',consolas,'Courier New',monospace\">\n",
       "</pre>\n"
      ],
      "text/plain": [
       "\n"
      ]
     },
     "metadata": {},
     "output_type": "display_data"
    }
   ],
   "source": [
    "for i in track(range(S_.shape[1]), description=\"writing S files\", total=S_.shape[1]):\n",
    "    hp.writePhs(S_[:, i], result+\"/S_\"+str(i)+\".sig\")"
   ]
  },
  {
   "cell_type": "code",
   "execution_count": 27,
   "id": "28b40e1b",
   "metadata": {},
   "outputs": [
    {
     "data": {
      "application/vnd.jupyter.widget-view+json": {
       "model_id": "d30d2961ad5b42f2abf5b243984f9a35",
       "version_major": 2,
       "version_minor": 0
      },
      "text/plain": [
       "Output()"
      ]
     },
     "metadata": {},
     "output_type": "display_data"
    },
    {
     "data": {
      "text/html": [
       "<pre style=\"white-space:pre;overflow-x:auto;line-height:normal;font-family:Menlo,'DejaVu Sans Mono',consolas,'Courier New',monospace\"></pre>\n"
      ],
      "text/plain": []
     },
     "metadata": {},
     "output_type": "display_data"
    },
    {
     "data": {
      "text/html": [
       "<pre style=\"white-space:pre;overflow-x:auto;line-height:normal;font-family:Menlo,'DejaVu Sans Mono',consolas,'Courier New',monospace\">\n",
       "</pre>\n"
      ],
      "text/plain": [
       "\n"
      ]
     },
     "metadata": {},
     "output_type": "display_data"
    }
   ],
   "source": [
    "for i in track(range(A_.shape[1]), description=\"writing A files\", total=A_.shape[1]):\n",
    "    hp.writePhs(A_[:, i], result+\"/A_\"+str(i)+\".sig\")"
   ]
  },
  {
   "cell_type": "code",
   "execution_count": 28,
   "id": "9dc2ac74",
   "metadata": {},
   "outputs": [
    {
     "data": {
      "application/vnd.jupyter.widget-view+json": {
       "model_id": "810756a7ec754f85a829ceea8d8b2b07",
       "version_major": 2,
       "version_minor": 0
      },
      "text/plain": [
       "Output()"
      ]
     },
     "metadata": {},
     "output_type": "display_data"
    },
    {
     "data": {
      "text/html": [
       "<pre style=\"white-space:pre;overflow-x:auto;line-height:normal;font-family:Menlo,'DejaVu Sans Mono',consolas,'Courier New',monospace\"></pre>\n"
      ],
      "text/plain": []
     },
     "metadata": {},
     "output_type": "display_data"
    },
    {
     "data": {
      "text/html": [
       "<pre style=\"white-space:pre;overflow-x:auto;line-height:normal;font-family:Menlo,'DejaVu Sans Mono',consolas,'Courier New',monospace\">\n",
       "</pre>\n"
      ],
      "text/plain": [
       "\n"
      ]
     },
     "metadata": {},
     "output_type": "display_data"
    }
   ],
   "source": [
    "f = open(fileList, 'r')\n",
    "i=0\n",
    "for line in track(open(fileList), description=\"writing cor files\", total=fileNum):\n",
    "        line = f.readline()\n",
    "        phs = hp.readPhs(line.strip())\n",
    "        index = np.where(phs == 0)\n",
    "        newPhsStack[index, i] = 0\n",
    "        line = os.path.split(line)[1].strip()\n",
    "        hp.writePhs(newPhsStack[:, i], result+\"/\"+line+\".ICAcorr\")\n",
    "        i = i+1"
   ]
  },
  {
   "cell_type": "code",
   "execution_count": 29,
   "id": "113def80",
   "metadata": {},
   "outputs": [],
   "source": [
    "ps.saveSubFig(newPhsStack, header, result+'/output.png')\n",
    "ps.saveSubFig(S_, header, result+'/S_all.png')\n",
    "ps.saveLineFig(A_,result+'/A_all.png')"
   ]
  },
  {
   "cell_type": "code",
   "execution_count": 30,
   "id": "4688771b",
   "metadata": {},
   "outputs": [],
   "source": [
    "ps.saveSubFig(newS, header, result+'/newS_all.png')"
   ]
  },
  {
   "cell_type": "code",
   "execution_count": null,
   "id": "cb6e3d23",
   "metadata": {},
   "outputs": [],
   "source": []
  }
 ],
 "metadata": {
  "kernelspec": {
   "display_name": "Python 3 (ipykernel)",
   "language": "python",
   "name": "python3"
  },
  "language_info": {
   "codemirror_mode": {
    "name": "ipython",
    "version": 3
   },
   "file_extension": ".py",
   "mimetype": "text/x-python",
   "name": "python",
   "nbconvert_exporter": "python",
   "pygments_lexer": "ipython3",
   "version": "3.10.9"
  }
 },
 "nbformat": 4,
 "nbformat_minor": 5
}
